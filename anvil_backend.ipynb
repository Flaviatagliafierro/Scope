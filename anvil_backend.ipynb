{
  "cells": [
    {
      "cell_type": "code",
      "execution_count": null,
      "metadata": {
        "colab": {
          "base_uri": "https://localhost:8080/",
          "height": 419
        },
        "id": "EqfzQB9jhzdD",
        "outputId": "7e366cf2-43cb-4e9a-ce56-d06c6f570054"
      },
      "outputs": [
        {
          "output_type": "stream",
          "name": "stdout",
          "text": [
            "Collecting anvil-uplink\n",
            "  Downloading anvil_uplink-0.4.2-py2.py3-none-any.whl (90 kB)\n",
            "\u001b[2K     \u001b[90m━━━━━━━━━━━━━━━━━━━━━━━━━━━━━━━━━━━━━━━━\u001b[0m \u001b[32m90.1/90.1 kB\u001b[0m \u001b[31m651.6 kB/s\u001b[0m eta \u001b[36m0:00:00\u001b[0m\n",
            "\u001b[?25hCollecting argparse (from anvil-uplink)\n",
            "  Downloading argparse-1.4.0-py2.py3-none-any.whl (23 kB)\n",
            "Requirement already satisfied: future in /usr/local/lib/python3.10/dist-packages (from anvil-uplink) (0.18.3)\n",
            "Requirement already satisfied: six in /usr/local/lib/python3.10/dist-packages (from anvil-uplink) (1.16.0)\n",
            "Collecting ws4py (from anvil-uplink)\n",
            "  Downloading ws4py-0.5.1.tar.gz (51 kB)\n",
            "\u001b[2K     \u001b[90m━━━━━━━━━━━━━━━━━━━━━━━━━━━━━━━━━━━━━━━━\u001b[0m \u001b[32m51.4/51.4 kB\u001b[0m \u001b[31m1.5 MB/s\u001b[0m eta \u001b[36m0:00:00\u001b[0m\n",
            "\u001b[?25h  Preparing metadata (setup.py) ... \u001b[?25l\u001b[?25hdone\n",
            "Building wheels for collected packages: ws4py\n",
            "  Building wheel for ws4py (setup.py) ... \u001b[?25l\u001b[?25hdone\n",
            "  Created wheel for ws4py: filename=ws4py-0.5.1-py3-none-any.whl size=45228 sha256=ec1483a031f10a0d0e793126442cff5c1cd37165a1d440c61673f026f70cb91f\n",
            "  Stored in directory: /root/.cache/pip/wheels/2e/7c/ad/d9c746276bf024d44296340869fcb169f1e5d80fb147351a57\n",
            "Successfully built ws4py\n",
            "Installing collected packages: ws4py, argparse, anvil-uplink\n",
            "Successfully installed anvil-uplink-0.4.2 argparse-1.4.0 ws4py-0.5.1\n"
          ]
        },
        {
          "output_type": "display_data",
          "data": {
            "application/vnd.colab-display-data+json": {
              "pip_warning": {
                "packages": [
                  "argparse",
                  "google"
                ]
              },
              "id": "a5756883aca4477dbe8bdccd1539528a"
            }
          },
          "metadata": {}
        }
      ],
      "source": [
        "!pip install anvil-uplink"
      ]
    },
    {
      "cell_type": "code",
      "execution_count": null,
      "metadata": {
        "id": "O2oKvmx3h70z"
      },
      "outputs": [],
      "source": [
        "import anvil.server\n",
        "import anvil.mpl_util\n",
        "import pandas as pd\n",
        "import numpy as np\n",
        "from google.colab import drive\n",
        "import seaborn as sns\n",
        "import matplotlib.pyplot as plt\n",
        "\n",
        "class Demo:\n",
        "  def __init__(self):\n",
        "    self.available_datasets = ['campione','titanic']\n",
        "    self.selected_dataset = None\n",
        "    self.available_features = []\n",
        "    self.available_features_for_view = []\n",
        "    self.selected_target = None\n",
        "    self.selected_feature = None\n",
        "    self.df = None\n",
        "\n",
        "  def reset(self):\n",
        "    self.selected_dataset = None\n",
        "    self.available_features = []\n",
        "    self.available_features_for_view = []\n",
        "    self.selected_target = None\n",
        "    self.selected_feature = None\n",
        "    self.df = None\n",
        "\n",
        "  def __str__(self):\n",
        "        properties = \", \".join([f\"{key}: {value}\\n\" for key, value in self.__dict__.items()])\n",
        "        return f\"MyClass instance with properties: {properties}\"\n",
        "\n",
        "mydemo = Demo()"
      ]
    },
    {
      "cell_type": "code",
      "source": [
        "print(mydemo)"
      ],
      "metadata": {
        "colab": {
          "base_uri": "https://localhost:8080/"
        },
        "id": "JcySIZ8SJ0-H",
        "outputId": "0b580301-3ee0-4d9a-85ad-89db748d91c8"
      },
      "execution_count": null,
      "outputs": [
        {
          "output_type": "stream",
          "name": "stdout",
          "text": [
            "MyClass instance with properties: available_datasets: ['campione', 'titanic']\n",
            ", selected_dataset: titanic\n",
            ", available_features: []\n",
            ", available_features_for_view: []\n",
            ", selected_target: None\n",
            ", selected_feature: None\n",
            ", df: None\n",
            "\n"
          ]
        }
      ]
    },
    {
      "cell_type": "code",
      "source": [
        "np.random.seed(1)\n",
        "anvil.server.connect(\"XXX\")\n",
        "drive.mount('/content/gdrive', force_remount= True)"
      ],
      "metadata": {
        "colab": {
          "base_uri": "https://localhost:8080/"
        },
        "id": "UUsxAsspNryl",
        "outputId": "fe2c405f-d0f4-442b-8703-3ec94a5ebdab"
      },
      "execution_count": null,
      "outputs": [
        {
          "output_type": "stream",
          "name": "stdout",
          "text": [
            "Connecting to wss://anvil.works/uplink\n",
            "Anvil websocket open\n",
            "Connected to \"Default Environment\" as SERVER\n",
            "Mounted at /content/gdrive\n"
          ]
        }
      ]
    },
    {
      "cell_type": "code",
      "execution_count": null,
      "metadata": {
        "colab": {
          "base_uri": "https://localhost:8080/"
        },
        "id": "iKRVuN12st3t",
        "outputId": "a639cf1f-50e2-4060-bea6-4e4203e97e7f"
      },
      "outputs": [
        {
          "output_type": "stream",
          "name": "stdout",
          "text": [
            "/content/gdrive/MyDrive/scope_edbt\n",
            "output.png  titanic.xlsx  Unknown.png\n"
          ]
        }
      ],
      "source": [
        "%cd gdrive/MyDrive/scope_edbt\n",
        "%ls"
      ]
    },
    {
      "cell_type": "code",
      "execution_count": null,
      "metadata": {
        "id": "qqe3wbUZiBvj"
      },
      "outputs": [],
      "source": [
        "@anvil.server.callable\n",
        "def reset_demo():\n",
        "  mydemo.reset()\n",
        "\n",
        "@anvil.server.callable\n",
        "def get_datasets():\n",
        "  return mydemo.available_datasets\n",
        "\n",
        "@anvil.server.callable\n",
        "def set_dataset(dataset):\n",
        "  mydemo.selected_dataset = dataset\n",
        "  return None\n",
        "\n",
        "@anvil.server.callable\n",
        "def load_dataset():\n",
        "  df=pd.read_excel('%s.xlsx' % mydemo.selected_dataset, sheet_name='Sheet2')\n",
        "  np.random.seed(1)\n",
        "  mydemo.df = df.sample(frac=1)\n",
        "  mydemo.available_features = df.columns.tolist()\n",
        "  mydemo.selected_target = mydemo.available_features[0]\n",
        "  mydemo.available_features_for_view = list(set(mydemo.available_features)-set([mydemo.selected_target]))\n",
        "  return None\n",
        "\n",
        "@anvil.server.callable\n",
        "def get_features():\n",
        "  return mydemo.available_features\n",
        "\n",
        "@anvil.server.callable\n",
        "def set_target(target):\n",
        "  mydemo.selected_target = target\n",
        "  mydemo.available_features_for_view = list(set(mydemo.available_features)-set([target]))\n",
        "\n",
        "@anvil.server.callable\n",
        "def get_features_for_view():\n",
        "  return mydemo.available_features_for_view\n",
        "\n",
        "@anvil.server.callable\n",
        "def set_feature(feature):\n",
        "  mydemo.selected_feature = feature\n",
        "\n",
        "@anvil.server.callable\n",
        "def get_plot():\n",
        "    plt.clf()\n",
        "    sns.countplot(mydemo.df, x=mydemo.df[mydemo.selected_feature], hue=mydemo.selected_target)\n",
        "    return anvil.mpl_util.plot_image()"
      ]
    },
    {
      "cell_type": "code",
      "source": [
        "#main\n",
        "mydemo.reset()\n",
        "set_dataset('titanic')\n",
        "load_dataset()\n",
        "set_target('Survived')\n",
        "set_feature('SibSp')\n",
        "get_plot()"
      ],
      "metadata": {
        "colab": {
          "base_uri": "https://localhost:8080/",
          "height": 466
        },
        "id": "pDE2Kvg0aQcl",
        "outputId": "23ac0f8a-d9ad-4b55-aaf3-87df2b17ca55"
      },
      "execution_count": null,
      "outputs": [
        {
          "output_type": "execute_result",
          "data": {
            "text/plain": [
              "BlobMedia[image/png,11985 bytes,name=plot.png]"
            ]
          },
          "metadata": {},
          "execution_count": 7
        },
        {
          "output_type": "display_data",
          "data": {
            "text/plain": [
              "<Figure size 640x480 with 1 Axes>"
            ],
            "image/png": "[encoded data removed]"
          },
          "metadata": {}
        }
      ]
    },
    {
      "cell_type": "code",
      "execution_count": null,
      "metadata": {
        "colab": {
          "base_uri": "https://localhost:8080/",
          "height": 656
        },
        "id": "l06kgRIiiHU9",
        "outputId": "7b6661f5-da9d-4b06-ac0a-2a37bed4eed5"
      },
      "outputs": [
        {
          "output_type": "error",
          "ename": "KeyboardInterrupt",
          "evalue": "",
          "traceback": [
            "\u001b[0;31m---------------------------------------------------------------------------\u001b[0m",
            "\u001b[0;31mKeyboardInterrupt\u001b[0m                         Traceback (most recent call last)",
            "\u001b[0;32m<ipython-input-10-95cac3476493>\u001b[0m in \u001b[0;36m<cell line: 1>\u001b[0;34m()\u001b[0m\n\u001b[0;32m----> 1\u001b[0;31m \u001b[0manvil\u001b[0m\u001b[0;34m.\u001b[0m\u001b[0mserver\u001b[0m\u001b[0;34m.\u001b[0m\u001b[0mwait_forever\u001b[0m\u001b[0;34m(\u001b[0m\u001b[0;34m)\u001b[0m\u001b[0;34m\u001b[0m\u001b[0;34m\u001b[0m\u001b[0m\n\u001b[0m",
            "\u001b[0;32m/usr/local/lib/python3.10/dist-packages/anvil/server.py\u001b[0m in \u001b[0;36mwait_forever\u001b[0;34m()\u001b[0m\n\u001b[1;32m    435\u001b[0m     \u001b[0m_get_connection\u001b[0m\u001b[0;34m(\u001b[0m\u001b[0;34m)\u001b[0m\u001b[0;34m\u001b[0m\u001b[0;34m\u001b[0m\u001b[0m\n\u001b[1;32m    436\u001b[0m     \u001b[0;32mwhile\u001b[0m \u001b[0;32mTrue\u001b[0m\u001b[0;34m:\u001b[0m\u001b[0;34m\u001b[0m\u001b[0;34m\u001b[0m\u001b[0m\n\u001b[0;32m--> 437\u001b[0;31m         \u001b[0mtime\u001b[0m\u001b[0;34m.\u001b[0m\u001b[0msleep\u001b[0m\u001b[0;34m(\u001b[0m\u001b[0;36m1\u001b[0m\u001b[0;34m)\u001b[0m\u001b[0;34m\u001b[0m\u001b[0;34m\u001b[0m\u001b[0m\n\u001b[0m",
            "\u001b[0;31mKeyboardInterrupt\u001b[0m: "
          ]
        },
        {
          "output_type": "display_data",
          "data": {
            "text/plain": [
              "<Figure size 640x480 with 1 Axes>"
            ],
            "image/png": "[encoded data removed]"
          },
          "metadata": {}
        }
      ],
      "source": [
        "anvil.server.wait_forever()"
      ]
    },
    {
      "cell_type": "markdown",
      "source": [],
      "metadata": {
        "id": "azr8uKMY1PZm"
      }
    },
    {
      "cell_type": "code",
      "source": [],
      "metadata": {
        "id": "QF2vCXkJgFjk"
      },
      "execution_count": null,
      "outputs": []
    },
    {
      "cell_type": "code",
      "execution_count": null,
      "metadata": {
        "id": "ECpNsi8ctkqK"
      },
      "outputs": [],
      "source": []
    }
  ],
  "metadata": {
    "colab": {
      "provenance": []
    },
    "kernelspec": {
      "display_name": "Python 3",
      "name": "python3"
    },
    "language_info": {
      "name": "python"
    }
  },
  "nbformat": 4,
  "nbformat_minor": 0
}